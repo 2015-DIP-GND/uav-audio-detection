{
 "cells": [
  {
   "cell_type": "code",
   "execution_count": 1,
   "metadata": {},
   "outputs": [
    {
     "data": {
      "text/html": [
       "<script>requirejs.config({paths: { 'plotly': ['https://cdn.plot.ly/plotly-latest.min']},});if(!window.Plotly) {{require(['plotly'],function(plotly) {window.Plotly=plotly;});}}</script>"
      ]
     },
     "metadata": {},
     "output_type": "execute_result"
    }
   ],
   "source": [
    "import os\n",
    "from os.path import isdir, join\n",
    "from pathlib import Path\n",
    "import pandas as pd\n",
    "\n",
    "import tensorflow as tf\n",
    "# Math\n",
    "import numpy as np\n",
    "from scipy.fftpack import fft\n",
    "from scipy import signal\n",
    "from scipy.io import wavfile\n",
    "import librosa\n",
    "\n",
    "from sklearn.decomposition import PCA\n",
    "\n",
    "# Visualization\n",
    "import matplotlib.pyplot as plt\n",
    "import seaborn as sns\n",
    "import IPython.display as ipd\n",
    "import librosa.display\n",
    "\n",
    "import plotly.offline as py\n",
    "py.init_notebook_mode(connected=True)\n",
    "import plotly.graph_objs as go\n",
    "import plotly.tools as tls\n",
    "import pandas as pd\n",
    "\n",
    "%matplotlib inline"
   ]
  },
  {
   "cell_type": "code",
   "execution_count": 2,
   "metadata": {},
   "outputs": [],
   "source": [
    "import glob\n",
    "uav_path = '../data/phantom/JUNE_01_PHANTOMS/wavs/*.wav'\n",
    "none_path = '../data/phantom/JUNE_02_BACKGROUND/wavs/background/background_0*.wav'\n",
    "uav_files = glob.glob(uav_path)\n",
    "none_files = glob.glob(none_path)"
   ]
  },
  {
   "cell_type": "code",
   "execution_count": 3,
   "metadata": {
    "scrolled": true
   },
   "outputs": [
    {
     "name": "stdout",
     "output_type": "stream",
     "text": [
      "11 개\t ../data/phantom/JUNE_01_PHANTOMS/wavs\\P1_stationary.wav\n",
      "21 개\t ../data/phantom/JUNE_02_BACKGROUND/wavs/background\\background_06_02_01.wav\n"
     ]
    }
   ],
   "source": [
    "print(len(uav_files),'개\\t', uav_files[0])\n",
    "print(len(none_files), '개\\t',none_files[0])"
   ]
  },
  {
   "cell_type": "markdown",
   "metadata": {},
   "source": [
    "# Load Data\n",
    "\n",
    "The reason of why SR is 44100 is that the sample rate of above files is 44.1kbps\n",
    "\n",
    "a wav file sample has 884736. if sample is divided by sample rate, the value is time\n",
    "the time is fixed by 20.06"
   ]
  },
  {
   "cell_type": "code",
   "execution_count": 4,
   "metadata": {},
   "outputs": [],
   "source": [
    "def loadSample(files,sample_rate):\n",
    "    [sample_np, sample_rate] = librosa.load(files[0],sample_rate)\n",
    "    print(len(sample_np), sample_rate, files[0])\n",
    "    for f in files[1:]:\n",
    "        [sample, sample_rate] = librosa.load(f,sample_rate)\n",
    "        sample_np = np.hstack((sample_np, sample))\n",
    "    return sample_np, sample_rate"
   ]
  },
  {
   "cell_type": "code",
   "execution_count": 5,
   "metadata": {},
   "outputs": [
    {
     "name": "stdout",
     "output_type": "stream",
     "text": [
      "884736 44100 ../data/phantom/JUNE_01_PHANTOMS/wavs\\P1_stationary.wav\n",
      "884736 44100 ../data/phantom/JUNE_02_BACKGROUND/wavs/background\\background_06_02_01.wav\n",
      "(9732096,) (18579456,)\n"
     ]
    }
   ],
   "source": [
    "SR = 44100\n",
    "uav_sample, uav_sample_rate = loadSample(uav_files,SR )\n",
    "none_sample, none_sample_rate = loadSample(none_files,SR)\n",
    "\n",
    "print(uav_sample.shape,none_sample.shape )\n",
    "combine = [[uav_sample,uav_path,uav_sample_rate],[none_sample,none_path,none_sample_rate]]"
   ]
  },
  {
   "cell_type": "markdown",
   "metadata": {},
   "source": [
    "# Feature extraction \n",
    "## steps\n",
    "#### 1. Resampling \n",
    "#### 2. *VAD*( Voice Activity Detection)\n",
    "#### 3. Maybe padding with 0 to make signals be equal length\n",
    "#### 4. Log spectrogram (or *MFCC*, or *PLP*)\n",
    "#### 5. Features normalization with *mean* and *std*\n",
    "#### 6. Stacking of a given number of frames to get temporal information\n",
    "\n"
   ]
  },
  {
   "cell_type": "markdown",
   "metadata": {},
   "source": [
    "## 1. Resampling\n",
    "\n",
    "if you see the graph, there are few at high frequency. this is mean that data is big but it's no useless. so To small the data, do Resampling. In general, use 0~8000Hz "
   ]
  },
  {
   "cell_type": "code",
   "execution_count": 6,
   "metadata": {},
   "outputs": [],
   "source": [
    "def log_specgram(audio, sample_rate, window_size=20,\n",
    "                 step_size=10, eps=1e-10):\n",
    "    nperseg = int(round(window_size * sample_rate / 1e3))\n",
    "    noverlap = int(round(step_size * sample_rate / 1e3))\n",
    "    freqs, times, spec = signal.spectrogram(audio,\n",
    "                                    fs=sample_rate,\n",
    "                                    window='hann',\n",
    "                                    nperseg=nperseg,\n",
    "                                    noverlap=noverlap,\n",
    "                                    detrend=False)\n",
    "    return freqs, times, np.log(spec.T.astype(np.float32) + eps)"
   ]
  },
  {
   "cell_type": "code",
   "execution_count": 7,
   "metadata": {},
   "outputs": [],
   "source": [
    "def showFreqTime(combine):\n",
    "    for sample, filename, _ in combine:\n",
    "        freqs, times, spectrogram = log_specgram(sample, SR)\n",
    "        fig = plt.figure(figsize=(14, 10))\n",
    "        ax1 = fig.add_subplot(211)\n",
    "        ax1.set_title('Raw wave of ' + filename)\n",
    "        ax1.set_ylabel('Amplitude')\n",
    "        ax1.plot(np.linspace(0, len(sample)/SR, len(sample)), sample)\n",
    "\n",
    "        ax2 = fig.add_subplot(212)\n",
    "        ax2.imshow(spectrogram.T, aspect='auto', origin='lower', \n",
    "               extent=[times.min(), times.max(), freqs.min(), freqs.max()])\n",
    "        ax2.set_yticks(freqs[::16])\n",
    "        ax2.set_xticks(times[::16])\n",
    "        ax2.set_title('Spectrogram of ' + filename)\n",
    "        ax2.set_ylabel('Freqs in Hz')\n",
    "        ax2.set_xlabel('Seconds')"
   ]
  },
  {
   "cell_type": "code",
   "execution_count": 8,
   "metadata": {
    "scrolled": true
   },
   "outputs": [],
   "source": [
    "#showFreqTime(combine)"
   ]
  },
  {
   "cell_type": "code",
   "execution_count": 9,
   "metadata": {},
   "outputs": [],
   "source": [
    "def custom_fft(y, fs):\n",
    "    T = 1.0 / fs\n",
    "    N = y.shape[0]\n",
    "    yf = fft(y)\n",
    "    xf = np.linspace(0.0, 1.0/(2.0*T), N//2)\n",
    "    vals = 2.0/N * np.abs(yf[0:N//2])  # FFT is simmetrical, so we take just the first half\n",
    "    # FFT is also complex, to we take just the real part (abs)\n",
    "    return xf, vals"
   ]
  },
  {
   "cell_type": "code",
   "execution_count": 10,
   "metadata": {},
   "outputs": [],
   "source": [
    "new_sample_rate = combine[0][2]  #/4\n",
    "combine_prev = combine[:]\n",
    "\n",
    "combine = []\n",
    "for samples, path, sample_rate in combine_prev:\n",
    "    resampled = signal.resample(samples, int(new_sample_rate/sample_rate * samples.shape[0]))\n",
    "    combine.append([resampled,path,new_sample_rate])"
   ]
  },
  {
   "cell_type": "code",
   "execution_count": 11,
   "metadata": {},
   "outputs": [
    {
     "data": {
      "image/png": "[encoded data removed]",
      "text/plain": [
       "<Figure size 864x288 with 1 Axes>"
      ]
     },
     "metadata": {},
     "output_type": "display_data"
    },
    {
     "data": {
      "image/png": "[encoded data removed]",
      "text/plain": [
       "<Figure size 864x288 with 1 Axes>"
      ]
     },
     "metadata": {},
     "output_type": "display_data"
    }
   ],
   "source": [
    "for samples, path, sample_rate in [combine_prev[0],combine[0]]:\n",
    "    xf, vals = custom_fft(samples, sample_rate)\n",
    "    plt.figure(figsize=(12, 4))\n",
    "    plt.title('FFT of recording sampled with ' + str(sample_rate) + ' Hz')\n",
    "    plt.plot(xf, vals)\n",
    "    plt.xlabel('Frequency')\n",
    "    plt.grid()\n",
    "    plt.show()"
   ]
  },
  {
   "cell_type": "markdown",
   "metadata": {},
   "source": [
    "### Data diffrence\n",
    "\n",
    "qualiy is diffrence but, the data is almost same."
   ]
  },
  {
   "cell_type": "code",
   "execution_count": 12,
   "metadata": {},
   "outputs": [],
   "source": [
    "#ipd.Audio(combine_prev[0][0], rate=combine_prev[0][2])"
   ]
  },
  {
   "cell_type": "code",
   "execution_count": 13,
   "metadata": {},
   "outputs": [],
   "source": [
    "#ipd.Audio(combine[0][0], rate=combine[0][2])"
   ]
  },
  {
   "cell_type": "markdown",
   "metadata": {},
   "source": [
    "## 2. VAD\n",
    "\n",
    "Sometimes, Files have silence. It is not necessary. So, We need to find sound of Drone except silence.\n",
    "\n",
    "But, Not yet implemented"
   ]
  },
  {
   "cell_type": "markdown",
   "metadata": {},
   "source": [
    "## 3. padding with 0 to make signals be equal length\n",
    "\n",
    "If we have a lot of sound files, we need to pad some datas. But These files's time is longger than 1 second. So It dosn't need to pad"
   ]
  },
  {
   "cell_type": "markdown",
   "metadata": {},
   "source": [
    "## 4. Log spectrogram (or MFCC, or PLP)\n",
    "\n",
    "The upper picture is resampled data. \n",
    "The lower picture is original data.\n",
    "\n",
    "In MFCC Feature, There is no big difference. "
   ]
  },
  {
   "cell_type": "code",
   "execution_count": 14,
   "metadata": {},
   "outputs": [
    {
     "name": "stdout",
     "output_type": "stream",
     "text": [
      "(13, 19009) 44100 190\n",
      "(13, 36289) 44100 362\n"
     ]
    },
    {
     "data": {
      "image/png": "[encoded data removed]",
      "text/plain": [
       "<Figure size 864x288 with 2 Axes>"
      ]
     },
     "metadata": {},
     "output_type": "display_data"
    },
    {
     "data": {
      "image/png": "[encoded data removed]",
      "text/plain": [
       "<Figure size 864x288 with 2 Axes>"
      ]
     },
     "metadata": {},
     "output_type": "display_data"
    }
   ],
   "source": [
    "mfcc_combine = []\n",
    "for sample,path,sample_rate in combine:\n",
    "    S = librosa.feature.melspectrogram(sample, sr=sample_rate, n_mels=128)\n",
    "    # Convert to log scale (dB). We'll use the peak power (max) as reference.\n",
    "    log_S = librosa.power_to_db(S, ref=np.max)\n",
    "    mfcc = librosa.feature.mfcc(S=log_S, n_mfcc=13)\n",
    "\n",
    "    # Let's pad on the first and second deltas while we're at it\n",
    "    delta2_mfcc = librosa.feature.delta(mfcc, order=2)\n",
    "    mfcc_combine.append(delta2_mfcc)\n",
    "    \n",
    "    plt.figure(figsize=(12, 4))\n",
    "    librosa.display.specshow(delta2_mfcc[ : ,int(delta2_mfcc.shape[1]*0.025) :int(delta2_mfcc.shape[1]*0.030)])\n",
    "    plt.ylabel('MFCC coeffs')\n",
    "    plt.xlabel('Time')\n",
    "    plt.title('MFCC'+path)\n",
    "    plt.colorbar()\n",
    "    plt.tight_layout()\n",
    "    print(delta2_mfcc.shape , sample_rate,int(delta2_mfcc.shape[1]*0.01))"
   ]
  },
  {
   "cell_type": "code",
   "execution_count": 15,
   "metadata": {},
   "outputs": [
    {
     "name": "stdout",
     "output_type": "stream",
     "text": [
      "(13, 19009) 44100 190\n",
      "(13, 36289) 44100 362\n"
     ]
    },
    {
     "data": {
      "image/png": "[encoded data removed]",
      "text/plain": [
       "<Figure size 864x288 with 2 Axes>"
      ]
     },
     "metadata": {},
     "output_type": "display_data"
    },
    {
     "data": {
      "image/png": "[encoded data removed]",
      "text/plain": [
       "<Figure size 864x288 with 2 Axes>"
      ]
     },
     "metadata": {},
     "output_type": "display_data"
    }
   ],
   "source": [
    "for sample,path,sample_rate in combine_prev:\n",
    "    S = librosa.feature.melspectrogram(sample, sr=sample_rate, n_mels=128)\n",
    "    # Convert to log scale (dB). We'll use the peak power (max) as reference.\n",
    "    log_S = librosa.power_to_db(S, ref=np.max)\n",
    "    mfcc = librosa.feature.mfcc(S=log_S, n_mfcc=13)\n",
    "\n",
    "    # Let's pad on the first and second deltas while we're at it\n",
    "    delta2_mfcc = librosa.feature.delta(mfcc, order=2)\n",
    "    \n",
    "    plt.figure(figsize=(12, 4))\n",
    "    librosa.display.specshow(delta2_mfcc[ : ,int(delta2_mfcc.shape[1]*0.025) :int(delta2_mfcc.shape[1]*0.030)])\n",
    "    plt.ylabel('MFCC coeffs')\n",
    "    plt.xlabel('Time')\n",
    "    plt.title('MFCC'+path)\n",
    "    plt.colorbar()\n",
    "    plt.tight_layout()\n",
    "    print(delta2_mfcc.shape , sample_rate,int(delta2_mfcc.shape[1]*0.01))"
   ]
  },
  {
   "cell_type": "code",
   "execution_count": 16,
   "metadata": {},
   "outputs": [
    {
     "name": "stdout",
     "output_type": "stream",
     "text": [
      "44100\n",
      "44100\n",
      "44100\n",
      "44100\n",
      "(13, 19009)\n",
      "(13, 36289)\n"
     ]
    }
   ],
   "source": [
    "for sample,_,sample_rate in combine:\n",
    "    print(sample_rate)\n",
    "    \n",
    "for sample,_,sample_rate in combine_prev:\n",
    "    print(sample_rate)\n",
    "    \n",
    "for mfcc in mfcc_combine:\n",
    "    print(mfcc.shape)"
   ]
  },
  {
   "cell_type": "markdown",
   "metadata": {},
   "source": [
    "## 5. Features normalization with *mean* and *std*"
   ]
  },
  {
   "cell_type": "code",
   "execution_count": 17,
   "metadata": {},
   "outputs": [
    {
     "data": {
      "text/plain": [
       "'\\n#The mean of UAV and background is diffrent. So, In later I will implement.\\nmean = np.mean(spectrogram, axis=0)\\nmin = np.min(spectrogram, axis=0)\\nmax = np.max(spectrogram, axis=0)\\ndom = max-min\\nspectrogram = (spectrogram - mean) / dom\\n'"
      ]
     },
     "execution_count": 17,
     "metadata": {},
     "output_type": "execute_result"
    }
   ],
   "source": [
    "'''\n",
    "#The mean of UAV and background is diffrent. So, In later I will implement.\n",
    "mean = np.mean(spectrogram, axis=0)\n",
    "min = np.min(spectrogram, axis=0)\n",
    "max = np.max(spectrogram, axis=0)\n",
    "dom = max-min\n",
    "spectrogram = (spectrogram - mean) / dom\n",
    "'''"
   ]
  },
  {
   "cell_type": "markdown",
   "metadata": {},
   "source": [
    "## 6. Stacking of a given number of frames to get temporal information"
   ]
  },
  {
   "cell_type": "code",
   "execution_count": 18,
   "metadata": {},
   "outputs": [
    {
     "name": "stdout",
     "output_type": "stream",
     "text": [
      "(19009,)\n",
      "(36289,)\n"
     ]
    }
   ],
   "source": [
    "# or should we give one label to one chunk?\n",
    "y_uav = np.ones(mfcc_combine[0].shape[1], dtype=int)\n",
    "y_none =np.zeros(mfcc_combine[1].shape[1], dtype=int)\n",
    "\n",
    "print(y_uav.shape)\n",
    "print(y_none.shape)"
   ]
  },
  {
   "cell_type": "code",
   "execution_count": 19,
   "metadata": {},
   "outputs": [
    {
     "name": "stdout",
     "output_type": "stream",
     "text": [
      "(55298, 13) (55298,)\n"
     ]
    }
   ],
   "source": [
    "dataX = np.hstack((mfcc_combine[0], mfcc_combine[1])).T\n",
    "dataY = np.hstack((y_uav, y_none))\n",
    "print(dataX.shape, dataY.shape)"
   ]
  },
  {
   "cell_type": "code",
   "execution_count": 20,
   "metadata": {},
   "outputs": [
    {
     "name": "stdout",
     "output_type": "stream",
     "text": [
      "(55292, 7, 13) (55292,)\n"
     ]
    }
   ],
   "source": [
    "seq_length = 7 #layer\n",
    "X_hot_list= []\n",
    "#Y_hot = dataY[seq_length-1:].reshape(len(dataY[seq_length-1:]), 1)\n",
    "Y_hot_tmp = dataY[seq_length-1:]\n",
    "\n",
    "for i in range(0, dataX.shape[0] - seq_length+1):\n",
    "    _x = dataX[i:i + seq_length]\n",
    "    #if i<10:\n",
    "        #print(_x, \"->\", Y_hot_tmp[i])\n",
    "    X_hot_list.append(_x)\n",
    "\n",
    "X_hot = np.array(X_hot_list[:])\n",
    "print(X_hot.shape, Y_hot_tmp.shape)\n"
   ]
  },
  {
   "cell_type": "code",
   "execution_count": 21,
   "metadata": {},
   "outputs": [
    {
     "data": {
      "text/plain": [
       "(55292,)"
      ]
     },
     "execution_count": 21,
     "metadata": {},
     "output_type": "execute_result"
    }
   ],
   "source": [
    "Y_hot_tmp.shape"
   ]
  },
  {
   "cell_type": "code",
   "execution_count": 22,
   "metadata": {},
   "outputs": [
    {
     "name": "stdout",
     "output_type": "stream",
     "text": [
      "(55292, 2)\n"
     ]
    }
   ],
   "source": [
    "n_labels = Y_hot_tmp.shape[0]\n",
    "n_unique_labels = 2\n",
    "Y_hot = np.zeros((n_labels, n_unique_labels))\n",
    "Y_hot[np.arange(n_labels), Y_hot_tmp] = 1\n",
    "print(Y_hot.shape)\n"
   ]
  },
  {
   "cell_type": "code",
   "execution_count": 23,
   "metadata": {},
   "outputs": [],
   "source": [
    "from sklearn import model_selection\n",
    "X_train, X_test, y_train, y_test = model_selection.train_test_split(X_hot, Y_hot, test_size=0.2, random_state=42)"
   ]
  },
  {
   "cell_type": "code",
   "execution_count": 24,
   "metadata": {},
   "outputs": [
    {
     "name": "stdout",
     "output_type": "stream",
     "text": [
      "(44233, 7, 13) (11059, 7, 13)\n",
      "(44233, 2) (11059, 2)\n"
     ]
    }
   ],
   "source": [
    "print(X_train.shape, X_test.shape)\n",
    "print(y_train.shape, y_test.shape)"
   ]
  },
  {
   "cell_type": "code",
   "execution_count": 25,
   "metadata": {},
   "outputs": [],
   "source": [
    "np.save('../data/Xy/X_train2', X_train)\n",
    "np.save('../data/Xy/X_test2', X_test)\n",
    "np.save('../data/Xy/y_train2', y_train)\n",
    "np.save('../data/Xy/y_test2', y_test)"
   ]
  },
  {
   "cell_type": "code",
   "execution_count": 26,
   "metadata": {},
   "outputs": [],
   "source": [
    "X_train = np.load('../data/Xy/X_train2.npy')\n",
    "X_test = np.load('../data/Xy/X_test2.npy')\n",
    "y_train = np.load('../data/Xy/y_train2.npy')\n",
    "y_test = np.load('../data/Xy/y_test2.npy')"
   ]
  },
  {
   "cell_type": "markdown",
   "metadata": {},
   "source": [
    "# Tensorflow RNN"
   ]
  },
  {
   "cell_type": "markdown",
   "metadata": {},
   "source": [
    "## Train "
   ]
  },
  {
   "cell_type": "code",
   "execution_count": 27,
   "metadata": {},
   "outputs": [],
   "source": [
    "learning_rate = 0.01\n",
    "\n",
    "# train Parameters\n",
    "X_dim = 13 #n_dim #X_hot.shape[2]\n",
    "\n",
    "#seq_length = 7 #X_hot.shape[1]\n",
    "output_dim = 2 #n_classes #Y_hot.shape[1]\n",
    "\n",
    "hidden_dim = 2\n",
    "learning_rate = 0.05"
   ]
  },
  {
   "cell_type": "code",
   "execution_count": 28,
   "metadata": {},
   "outputs": [],
   "source": [
    "\n",
    "# input place holders\n",
    "X = tf.placeholder(tf.float32, [None, seq_length, X_dim], name = 'X')\n",
    "Y = tf.placeholder(tf.float32, [None, output_dim], name = 'Y')\n",
    "\n",
    "\n",
    "# build a LSTM network\n",
    "cell = tf.contrib.rnn.BasicLSTMCell(\n",
    "    num_units=hidden_dim, state_is_tuple=True, activation=tf.tanh)\n",
    "outputs, _states = tf.nn.dynamic_rnn(cell, X, dtype=tf.float32)\n",
    "\n",
    "Y_pred = tf.contrib.layers.fully_connected(\n",
    "    outputs[:, -1], output_dim, activation_fn=None)  # We use the last cell's output\n",
    "\n",
    "# cost/loss\n",
    "loss = tf.reduce_sum(tf.square(Y_pred - Y))  # sum of the squares\n",
    "#loss = tf.reduce_mean(tf.nn.softmax_cross_entropy_with_logits(logits = Y_pred, labels = Y))\n",
    "# optimizer\n",
    "lr = tf.placeholder(tf.float32,shape=(), name='learning_rate')\n",
    "train = tf.train.AdamOptimizer(lr).minimize(loss) #AdamOptimizer\n",
    "\n",
    "# RMSE\n",
    "targets = tf.placeholder(tf.float32, [None, output_dim] , name = 'targets')\n",
    "predictions = tf.placeholder(tf.float32, [None, output_dim] , name = 'predictions')\n",
    "rmse = tf.sqrt(tf.reduce_mean(tf.square(targets - predictions)))\n"
   ]
  },
  {
   "cell_type": "code",
   "execution_count": 42,
   "metadata": {},
   "outputs": [
    {
     "data": {
      "text/plain": [
       "array([[-0.39628496, -0.62144761, -0.67045363, -0.51327431, -0.22580119,\n",
       "        -0.13079387, -0.41387142, -0.8485628 , -0.97185495, -0.52683463,\n",
       "         0.27756512,  0.91604404,  0.95367433],\n",
       "       [-0.49295554, -0.70873684, -0.68392831, -0.54946887, -0.3710542 ,\n",
       "        -0.30866189, -0.41651864, -0.55496004, -0.5272764 , -0.26682336,\n",
       "         0.1229314 ,  0.46126315,  0.58942088],\n",
       "       [-0.52680169, -0.57701766, -0.23999211, -0.05814408, -0.1769271 ,\n",
       "        -0.43141918, -0.54840534, -0.44333483, -0.28223964, -0.25507947,\n",
       "        -0.3344827 , -0.30705509, -0.0475205 ],\n",
       "       [-0.54064625, -0.51036594, -0.0079652 ,  0.28041225,  0.21336959,\n",
       "         0.02696177, -0.05060578, -0.04339585, -0.07969258, -0.18547191,\n",
       "        -0.30566411, -0.39853766, -0.41100562],\n",
       "       [-0.02251075,  0.06236967,  0.22727527,  0.29621252,  0.29927966,\n",
       "         0.36131604,  0.44259844,  0.37813236,  0.15003386, -0.08037171,\n",
       "        -0.23363127, -0.39375378, -0.54865927],\n",
       "       [ 0.70862396,  0.93534967,  0.79796674,  0.70467162,  0.69554275,\n",
       "         0.7141348 ,  0.69828644,  0.64873149,  0.58494202,  0.46054567,\n",
       "         0.18685028, -0.21232645, -0.50612706],\n",
       "       [ 0.92173812,  1.28459382,  1.22699545,  1.13267745,  1.01196883,\n",
       "         0.8779578 ,  0.73176783,  0.56160458,  0.36640554,  0.1726514 ,\n",
       "         0.0083004 , -0.13870908, -0.30659872]])"
      ]
     },
     "execution_count": 42,
     "metadata": {},
     "output_type": "execute_result"
    }
   ],
   "source": [
    "X_train[100]"
   ]
  },
  {
   "cell_type": "code",
   "execution_count": 44,
   "metadata": {},
   "outputs": [
    {
     "name": "stdout",
     "output_type": "stream",
     "text": [
      "[step: 0] loss: 1.0472395468315512\n",
      "[step: 10] loss: 0.6283063108284539\n",
      "[step: 20] loss: 0.4325206417578505\n",
      "[step: 30] loss: 0.38278198863122553\n",
      "[step: 40] loss: 0.29123017599981915\n",
      "[step: 50] loss: 0.2002737103802591\n",
      "[step: 60] loss: 0.16477022245834558\n",
      "[step: 70] loss: 0.13700126717114486\n",
      "[step: 80] loss: 0.1224773036922377\n",
      "[step: 90] loss: 0.1131844062090238\n",
      "[step: 100] loss: 0.10839903359765334\n",
      "[step: 110] loss: 0.10459946299990958\n",
      "[step: 120] loss: 0.10133451472528994\n",
      "[step: 130] loss: 0.0978724347489431\n",
      "[step: 140] loss: 0.09547185014935117\n",
      "[step: 150] loss: 0.09321729843598106\n",
      "[step: 160] loss: 0.09079111475383198\n",
      "[step: 170] loss: 0.08871897996122804\n",
      "[step: 180] loss: 0.0869151608651205\n",
      "[step: 190] loss: 0.08548341709314879\n",
      "[step: 200] loss: 0.08432789283100287\n",
      "[step: 210] loss: 0.0835441734412797\n",
      "[step: 220] loss: 0.08246094809729161\n",
      "[step: 230] loss: 0.08207918066686637\n",
      "[step: 240] loss: 0.08104776614391404\n",
      "[step: 250] loss: 0.0802423830200303\n",
      "[step: 260] loss: 0.07962193919309396\n",
      "[step: 270] loss: 0.07911815388468452\n",
      "[step: 280] loss: 0.07868802527242104\n",
      "[step: 290] loss: 0.07831632526902992\n",
      "[step: 300] loss: 0.07798635762079499\n",
      "[step: 310] loss: 0.07768659225366242\n",
      "[step: 320] loss: 0.07740831951858623\n",
      "[step: 330] loss: 0.07714488851119357\n",
      "[step: 340] loss: 0.07689227005290168\n",
      "[step: 350] loss: 0.07664770443235254\n",
      "[step: 360] loss: 0.07640998841539405\n",
      "[step: 370] loss: 0.07617849278783657\n",
      "[step: 380] loss: 0.07595314027776208\n",
      "[step: 390] loss: 0.07573356660327131\n",
      "[step: 400] loss: 0.0755196061816828\n",
      "[step: 410] loss: 0.07531086713398367\n",
      "[step: 420] loss: 0.0751071231638426\n",
      "[step: 430] loss: 0.07490768986284278\n",
      "[step: 440] loss: 0.07471202080813533\n",
      "[step: 450] loss: 0.07451970204301653\n",
      "[step: 460] loss: 0.07433006019791502\n",
      "[step: 470] loss: 0.07414236670903228\n",
      "[step: 480] loss: 0.07395520308473029\n",
      "[step: 490] loss: 0.07376617941497299\n",
      "Test accuracy: 0.874\n",
      "[step: 0] loss: 0.0735714265844364\n",
      "[step: 10] loss: 0.07346930070592092\n",
      "[step: 20] loss: 0.07336171611833925\n",
      "[step: 30] loss: 0.07324531701268001\n",
      "[step: 40] loss: 0.07312379588274026\n",
      "[step: 50] loss: 0.07300612730985633\n",
      "[step: 60] loss: 0.07289167104099314\n",
      "[step: 70] loss: 0.07277862222492257\n",
      "[step: 80] loss: 0.07266633508918681\n",
      "[step: 90] loss: 0.07255411418652363\n",
      "[step: 100] loss: 0.07244253353689553\n",
      "[step: 110] loss: 0.07233280741330002\n",
      "[step: 120] loss: 0.07222475367478749\n",
      "[step: 130] loss: 0.07211763823813669\n",
      "[step: 140] loss: 0.07201132863720243\n",
      "[step: 150] loss: 0.07190552682315805\n",
      "[step: 160] loss: 0.07179991818890874\n",
      "[step: 170] loss: 0.07169439234600015\n",
      "[step: 180] loss: 0.07158864020676023\n",
      "[step: 190] loss: 0.07148215950372176\n",
      "[step: 200] loss: 0.07137506614476183\n",
      "[step: 210] loss: 0.07126675299338164\n",
      "[step: 220] loss: 0.07115707654459058\n",
      "[step: 230] loss: 0.07104579394378914\n",
      "[step: 240] loss: 0.07093263473926424\n",
      "[step: 250] loss: 0.0708176430863976\n",
      "[step: 260] loss: 0.07070037743137193\n",
      "[step: 270] loss: 0.07058090400725985\n",
      "[step: 280] loss: 0.0704587647019759\n",
      "[step: 290] loss: 0.07033305984961737\n",
      "[step: 300] loss: 0.07020075376769042\n",
      "[step: 310] loss: 0.07005831402565675\n",
      "[step: 320] loss: 0.06990863832044232\n",
      "[step: 330] loss: 0.06972449382036601\n",
      "[step: 340] loss: 0.0695656558734429\n",
      "[step: 350] loss: 0.06942043434236034\n",
      "[step: 360] loss: 0.0692832877267114\n",
      "[step: 370] loss: 0.06915274234063086\n",
      "[step: 380] loss: 0.06902696573577702\n",
      "[step: 390] loss: 0.06890530662026936\n",
      "[step: 400] loss: 0.06878691500300962\n",
      "[step: 410] loss: 0.06867119478634447\n",
      "[step: 420] loss: 0.06855784792144723\n",
      "[step: 430] loss: 0.06844607409202405\n",
      "[step: 440] loss: 0.06833571875423891\n",
      "[step: 450] loss: 0.06822586016449822\n",
      "[step: 460] loss: 0.06811692883777383\n",
      "[step: 470] loss: 0.06801039294050822\n",
      "[step: 480] loss: 0.0679066388322915\n",
      "[step: 490] loss: 0.06780614670289999\n",
      "Test accuracy: 0.902\n"
     ]
    }
   ],
   "source": [
    "init = tf.global_variables_initializer()\n",
    "sess = tf.InteractiveSession()\n",
    "sess.run(init)\n",
    "cost_history = np.empty(shape=[1],dtype=float)\n",
    "step_loss = 999999.0\n",
    "model_path = '../models/RNN/my_RNN_model_500'\n",
    "saver = tf.train.Saver()\n",
    "training_epochs = 500\n",
    "# Training step\n",
    "for learning_rate in [0.02,0.01]:\n",
    "    test_acc = []\n",
    "    feed = {lr:learning_rate, X: X_train, Y: y_train}\n",
    "    for i in range(training_epochs):\n",
    "        step_loss_prev = step_loss\n",
    "        _, step_loss = sess.run([train, loss], feed_dict=feed)\n",
    "        cost_history = np.append(cost_history,step_loss/X_train.shape[0])\n",
    "        if i%10 == 0:\n",
    "            print(\"[step: {}] loss: {}\".format(i, step_loss/X_train.shape[0]))\n",
    "        \n",
    "        #batch_acc, test_state = sess.run([loss, _states], feed_dict=feed)\n",
    "    print(\"Test accuracy: {:.3f}\".format(1.0-np.mean(cost_history)))\n",
    "\n",
    "saver.save(sess, model_path)\n",
    "sess.close()"
   ]
  },
  {
   "cell_type": "code",
   "execution_count": 30,
   "metadata": {},
   "outputs": [
    {
     "name": "stdout",
     "output_type": "stream",
     "text": [
      "INFO:tensorflow:Restoring parameters from ../models/my_RNN_model_500\n",
      "RMSE: 0.49575021862983704\n",
      "(11059,) (11059,)\n"
     ]
    }
   ],
   "source": [
    "sess = tf.InteractiveSession()\n",
    "saver.restore(sess, model_path)\n",
    "\n",
    "# Test step\n",
    "test_predict = sess.run(Y_pred, feed_dict={X: X_train})\n",
    "rmse_val = sess.run(rmse, feed_dict={\n",
    "                    targets: y_train, predictions: test_predict})\n",
    "print(\"RMSE: {}\".format(rmse_val))\n",
    "\n",
    "y_ = Y_pred\n",
    "_true, y_pred = None, None\n",
    "y_pred = sess.run(tf.argmax(Y_pred,1),feed_dict={X: X_test})\n",
    "y_true = sess.run(tf.argmax(y_test,1))\n",
    "print(y_pred.shape, y_true.shape)"
   ]
  },
  {
   "cell_type": "code",
   "execution_count": 31,
   "metadata": {},
   "outputs": [],
   "source": [
    "sess.close()"
   ]
  },
  {
   "cell_type": "code",
   "execution_count": 32,
   "metadata": {
    "scrolled": true
   },
   "outputs": [
    {
     "data": {
      "image/png": "[encoded data removed]",
      "text/plain": [
       "<Figure size 720x576 with 1 Axes>"
      ]
     },
     "metadata": {},
     "output_type": "display_data"
    },
    {
     "name": "stdout",
     "output_type": "stream",
     "text": [
      "F-Score: 0.656\n",
      "Accuracy:  0.6558459173523826\n",
      "             precision    recall  f1-score   support\n",
      "\n",
      "          0       0.66      0.99      0.79      7240\n",
      "          1       0.56      0.02      0.03      3819\n",
      "\n",
      "avg / total       0.62      0.66      0.53     11059\n",
      "\n",
      "[[7195   45]\n",
      " [3761   58]]\n"
     ]
    }
   ],
   "source": [
    "from sklearn.metrics import precision_recall_fscore_support\n",
    "from sklearn.metrics import accuracy_score\n",
    "from sklearn.metrics import classification_report\n",
    "from sklearn.metrics import confusion_matrix\n",
    "\n",
    "fig = plt.figure(figsize=(10,8))\n",
    "plt.plot(cost_history)\n",
    "plt.ylabel(\"Cost\")\n",
    "plt.xlabel(\"Iterations\")\n",
    "plt.axis([0,len(cost_history),0,np.max(cost_history)])\n",
    "plt.show()\n",
    "\n",
    "\n",
    "p,r,f,s = precision_recall_fscore_support(y_true, y_pred, average='micro')\n",
    "print(\"F-Score:\", round(f,3))\n",
    "print(\"Accuracy: \", accuracy_score(y_true, y_pred))\n",
    "\n",
    "print(classification_report(y_true, y_pred))\n",
    "print(confusion_matrix(y_true, y_pred))"
   ]
  },
  {
   "cell_type": "code",
   "execution_count": null,
   "metadata": {},
   "outputs": [],
   "source": []
  },
  {
   "cell_type": "code",
   "execution_count": null,
   "metadata": {},
   "outputs": [],
   "source": []
  },
  {
   "cell_type": "code",
   "execution_count": null,
   "metadata": {},
   "outputs": [],
   "source": []
  }
 ],
 "metadata": {
  "kernelspec": {
   "display_name": "Python 3",
   "language": "python",
   "name": "python3"
  },
  "language_info": {
   "codemirror_mode": {
    "name": "ipython",
    "version": 3
   },
   "file_extension": ".py",
   "mimetype": "text/x-python",
   "name": "python",
   "nbconvert_exporter": "python",
   "pygments_lexer": "ipython3",
   "version": "3.5.4"
  }
 },
 "nbformat": 4,
 "nbformat_minor": 2
}
